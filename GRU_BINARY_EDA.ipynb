{
  "nbformat": 4,
  "nbformat_minor": 0,
  "metadata": {
    "colab": {
      "name": "GRU_BINARY_EDA.ipynb",
      "provenance": [],
      "collapsed_sections": []
    },
    "kernelspec": {
      "name": "python3",
      "display_name": "Python 3"
    },
    "accelerator": "GPU"
  },
  "cells": [
    {
      "cell_type": "code",
      "metadata": {
        "colab": {
          "base_uri": "https://localhost:8080/"
        },
        "id": "Dig3EviD9GRo",
        "outputId": "13fcf109-c2e0-4359-9d0d-a801f8a3f75f"
      },
      "source": [
        "import torch\r\n",
        "\r\n",
        "if torch.cuda.is_available():       \r\n",
        "    device = torch.device(\"cuda\")\r\n",
        "    print(f'There are {torch.cuda.device_count()} GPU(s) available.')\r\n",
        "    print('Device name:', torch.cuda.get_device_name(0))\r\n",
        "\r\n",
        "else:\r\n",
        "    print('No GPU available, using the CPU instead.')\r\n",
        "    device = torch.device(\"cpu\")"
      ],
      "execution_count": 1,
      "outputs": [
        {
          "output_type": "stream",
          "text": [
            "There are 1 GPU(s) available.\n",
            "Device name: Tesla T4\n"
          ],
          "name": "stdout"
        }
      ]
    },
    {
      "cell_type": "code",
      "metadata": {
        "id": "o5HI49hS1spT"
      },
      "source": [
        "import numpy as np\r\n",
        "import pandas as pd\r\n",
        "from tensorflow.keras.preprocessing.sequence import pad_sequences\r\n",
        "from tensorflow.keras.preprocessing.text import Tokenizer\r\n",
        "import numpy as np\r\n",
        "from scipy import spatial\r\n",
        "import matplotlib.pyplot as plt\r\n",
        "from sklearn.manifold import TSNE\r\n",
        "import re\r\n",
        "from tqdm import tqdm_notebook\r\n",
        "\r\n",
        "from nltk.corpus import stopwords\r\n",
        "\r\n",
        "from tensorflow.keras import regularizers, initializers, optimizers, callbacks\r\n",
        "from tensorflow.keras.preprocessing.sequence import pad_sequences\r\n",
        "from tensorflow.keras.preprocessing.text import Tokenizer\r\n",
        "from keras.utils.np_utils import to_categorical\r\n",
        "from tensorflow.keras.layers import *\r\n",
        "from tensorflow.keras.models import Model"
      ],
      "execution_count": 2,
      "outputs": []
    },
    {
      "cell_type": "code",
      "metadata": {
        "id": "VNcYNsHt3WZo"
      },
      "source": [
        "MAX_NB_WORDS = 100000    # max no. of words for tokenizer\r\n",
        "MAX_SEQUENCE_LENGTH = 100 # max length of each entry (sentence), including padding\r\n",
        "VALIDATION_SPLIT = 0.2   # data for validation (not used in training)\r\n",
        "EMBEDDING_DIM = 100\r\n",
        "GLOVE_DIR = r\"glove.twitter.27B.100d.txt\""
      ],
      "execution_count": 5,
      "outputs": []
    },
    {
      "cell_type": "code",
      "metadata": {
        "colab": {
          "base_uri": "https://localhost:8080/"
        },
        "id": "j6oczzwM0SWj",
        "outputId": "a94de522-69a1-4995-b659-81929a21b8ef"
      },
      "source": [
        "import os \r\n",
        "from google.colab import drive\r\n",
        "drive.mount('/content/drive')\r\n",
        "os.chdir('/content/drive/My Drive/DATASET AML/')"
      ],
      "execution_count": 3,
      "outputs": [
        {
          "output_type": "stream",
          "text": [
            "Mounted at /content/drive\n"
          ],
          "name": "stdout"
        }
      ]
    },
    {
      "cell_type": "markdown",
      "metadata": {
        "id": "I-MLgeP53S8w"
      },
      "source": [
        "# Import Glove"
      ]
    },
    {
      "cell_type": "code",
      "metadata": {
        "id": "Zrcj7fB63RhE",
        "colab": {
          "base_uri": "https://localhost:8080/"
        },
        "outputId": "b859cff2-a913-4119-b701-b6ab7826b350"
      },
      "source": [
        "embeddings_index = {}\r\n",
        "f = open(GLOVE_DIR, encoding=\"utf8\")\r\n",
        "print('Loading GloVe from:', GLOVE_DIR,'...', end='')\r\n",
        "for line in f:\r\n",
        "    values = line.split()\r\n",
        "    word = values[0]\r\n",
        "    embeddings_index[word] = np.asarray(values[1:], dtype='float32')\r\n",
        "f.close()\r\n",
        "print(\"Done.\\n Proceeding with Embedding Matrix...\", end=\"\")\r\n"
      ],
      "execution_count": 6,
      "outputs": [
        {
          "output_type": "stream",
          "text": [
            "Loading GloVe from: glove.twitter.27B.100d.txt ...Done.\n",
            " Proceeding with Embedding Matrix..."
          ],
          "name": "stdout"
        }
      ]
    },
    {
      "cell_type": "code",
      "metadata": {
        "colab": {
          "base_uri": "https://localhost:8080/"
        },
        "id": "OI2EAia3z8Lm",
        "outputId": "3d662c08-a2bd-4fa1-cd60-08f2f25fd5e0"
      },
      "source": [
        ""
      ],
      "execution_count": null,
      "outputs": [
        {
          "output_type": "stream",
          "text": [
            "Mounted at /content/drive\n"
          ],
          "name": "stdout"
        }
      ]
    },
    {
      "cell_type": "markdown",
      "metadata": {
        "id": "Xr8fe3PV3d3q"
      },
      "source": [
        "#Import Dataset"
      ]
    },
    {
      "cell_type": "markdown",
      "metadata": {
        "id": "O455U1_A34Xc"
      },
      "source": [
        "EDA BINARY"
      ]
    },
    {
      "cell_type": "code",
      "metadata": {
        "id": "ahXvINcW3k2m"
      },
      "source": [
        "os.chdir('/content/drive/My Drive/DATASET AML/PROJECT/dataset_giusti')"
      ],
      "execution_count": 7,
      "outputs": []
    },
    {
      "cell_type": "code",
      "metadata": {
        "id": "gtMElYbL3dFZ",
        "colab": {
          "base_uri": "https://localhost:8080/",
          "height": 204
        },
        "outputId": "0084af1c-a4ed-47d4-cad5-4192bb939a80"
      },
      "source": [
        "train = pd.read_csv(\"BINARY_augmented_EDA_undersampling_senza_stopword_FINAL.csv\")\r\n",
        "train[\"comment_text\"] = train[\"comment_text\"].astype(str)\r\n",
        "train.head()"
      ],
      "execution_count": 8,
      "outputs": [
        {
          "output_type": "execute_result",
          "data": {
            "text/html": [
              "<div>\n",
              "<style scoped>\n",
              "    .dataframe tbody tr th:only-of-type {\n",
              "        vertical-align: middle;\n",
              "    }\n",
              "\n",
              "    .dataframe tbody tr th {\n",
              "        vertical-align: top;\n",
              "    }\n",
              "\n",
              "    .dataframe thead th {\n",
              "        text-align: right;\n",
              "    }\n",
              "</style>\n",
              "<table border=\"1\" class=\"dataframe\">\n",
              "  <thead>\n",
              "    <tr style=\"text-align: right;\">\n",
              "      <th></th>\n",
              "      <th>comment_text</th>\n",
              "      <th>bad</th>\n",
              "    </tr>\n",
              "  </thead>\n",
              "  <tbody>\n",
              "    <tr>\n",
              "      <th>0</th>\n",
              "      <td>comrade soviet hell</td>\n",
              "      <td>1</td>\n",
              "    </tr>\n",
              "    <tr>\n",
              "      <th>1</th>\n",
              "      <td>nope not read guide appeal not time user quest...</td>\n",
              "      <td>0</td>\n",
              "    </tr>\n",
              "    <tr>\n",
              "      <th>2</th>\n",
              "      <td>would like help think block fatuorum</td>\n",
              "      <td>0</td>\n",
              "    </tr>\n",
              "    <tr>\n",
              "      <th>3</th>\n",
              "      <td>mosslash wpsubpage article</td>\n",
              "      <td>0</td>\n",
              "    </tr>\n",
              "    <tr>\n",
              "      <th>4</th>\n",
              "      <td>yeah administrate like shit anyway close user ...</td>\n",
              "      <td>1</td>\n",
              "    </tr>\n",
              "  </tbody>\n",
              "</table>\n",
              "</div>"
            ],
            "text/plain": [
              "                                        comment_text  bad\n",
              "0                                comrade soviet hell    1\n",
              "1  nope not read guide appeal not time user quest...    0\n",
              "2               would like help think block fatuorum    0\n",
              "3                         mosslash wpsubpage article    0\n",
              "4  yeah administrate like shit anyway close user ...    1"
            ]
          },
          "metadata": {
            "tags": []
          },
          "execution_count": 8
        }
      ]
    },
    {
      "cell_type": "markdown",
      "metadata": {
        "id": "z89MdPP-3o6w"
      },
      "source": [
        "#Tokenization and Embedding"
      ]
    },
    {
      "cell_type": "code",
      "metadata": {
        "id": "_q0DDGEk3rdD",
        "colab": {
          "base_uri": "https://localhost:8080/"
        },
        "outputId": "495ea900-cade-4bd6-dd36-e5f416e25dfb"
      },
      "source": [
        "tokenizer = Tokenizer(num_words=MAX_NB_WORDS)\r\n",
        "tokenizer.fit_on_texts(train['comment_text'].values)\r\n",
        "sequences = tokenizer.texts_to_sequences(train[\"comment_text\"])\r\n",
        "word_index = tokenizer.word_index\r\n",
        "print('Vocabulary size:', len(word_index))"
      ],
      "execution_count": 9,
      "outputs": [
        {
          "output_type": "stream",
          "text": [
            "Vocabulary size: 72620\n"
          ],
          "name": "stdout"
        }
      ]
    },
    {
      "cell_type": "code",
      "metadata": {
        "id": "MK5SJTZN3tF5",
        "colab": {
          "base_uri": "https://localhost:8080/"
        },
        "outputId": "b296ddf3-ef26-49ef-d13a-056cb231a751"
      },
      "source": [
        "embeddings_dict = {}\r\n",
        "\r\n",
        "for word, i in word_index.items():\r\n",
        "    embedding_vector = embeddings_index.get(word)\r\n",
        "    if embedding_vector is not None:\r\n",
        "        embeddings_dict[word] = embedding_vector\r\n",
        "print(\" Completed!\")"
      ],
      "execution_count": 10,
      "outputs": [
        {
          "output_type": "stream",
          "text": [
            " Completed!\n"
          ],
          "name": "stdout"
        }
      ]
    },
    {
      "cell_type": "code",
      "metadata": {
        "id": "hEzMtyee4Cax"
      },
      "source": [
        "tsne = TSNE(n_components=2, random_state=0)\r\n",
        "words =  list(embeddings_dict.keys())\r\n",
        "vectors = [embeddings_dict[word] for word in words]"
      ],
      "execution_count": 11,
      "outputs": []
    },
    {
      "cell_type": "code",
      "metadata": {
        "id": "yA5fK-is4DGy"
      },
      "source": [
        "data = pad_sequences(sequences, padding = 'post', maxlen = MAX_SEQUENCE_LENGTH)"
      ],
      "execution_count": 12,
      "outputs": []
    },
    {
      "cell_type": "code",
      "metadata": {
        "id": "v88-l-Am4Js5"
      },
      "source": [
        "labels = ['bad']\r\n",
        "y = to_categorical(train[labels].values)"
      ],
      "execution_count": 13,
      "outputs": []
    },
    {
      "cell_type": "code",
      "metadata": {
        "id": "mMtbZHbf4Lfg",
        "colab": {
          "base_uri": "https://localhost:8080/"
        },
        "outputId": "22d40b4d-86dd-4260-d40b-c345e6f87ee1"
      },
      "source": [
        "print('Shape of data tensor:', data.shape)\r\n",
        "print('Shape of label tensor:', y.shape)"
      ],
      "execution_count": 14,
      "outputs": [
        {
          "output_type": "stream",
          "text": [
            "Shape of data tensor: (46362, 100)\n",
            "Shape of label tensor: (46362, 2)\n"
          ],
          "name": "stdout"
        }
      ]
    },
    {
      "cell_type": "code",
      "metadata": {
        "id": "SkY8pV9c4NIK"
      },
      "source": [
        "indices = np.arange(data.shape[0])\r\n",
        "np.random.shuffle(indices)\r\n",
        "data = data[indices]\r\n",
        "labels = y[indices]"
      ],
      "execution_count": 15,
      "outputs": []
    },
    {
      "cell_type": "code",
      "metadata": {
        "id": "TDn5y6ne4N2D",
        "colab": {
          "base_uri": "https://localhost:8080/"
        },
        "outputId": "4cc6de4c-7b13-4e08-ff26-14b12ade9361"
      },
      "source": [
        "num_validation_samples = int(VALIDATION_SPLIT*data.shape[0])\r\n",
        "x_train = data[: -num_validation_samples]\r\n",
        "y_train = labels[: -num_validation_samples]\r\n",
        "x_val = data[-num_validation_samples: ]\r\n",
        "y_val = labels[-num_validation_samples: ]\r\n",
        "print('Number of entries in each category:')\r\n",
        "print('training: ', y_train.sum(axis=0))\r\n",
        "print('validation: ', y_val.sum(axis=0))"
      ],
      "execution_count": 16,
      "outputs": [
        {
          "output_type": "stream",
          "text": [
            "Number of entries in each category:\n",
            "training:  [18514. 18576.]\n",
            "validation:  [4667. 4605.]\n"
          ],
          "name": "stdout"
        }
      ]
    },
    {
      "cell_type": "code",
      "metadata": {
        "id": "s9bN-5TR4Plp",
        "colab": {
          "base_uri": "https://localhost:8080/"
        },
        "outputId": "1a9fe3fa-33f6-4e5e-e092-ba6bd55ff2eb"
      },
      "source": [
        "print('Tokenized sentences: \\n', data[20])\r\n",
        "print('One hot label: \\n', labels[20])"
      ],
      "execution_count": 17,
      "outputs": [
        {
          "output_type": "stream",
          "text": [
            "Tokenized sentences: \n",
            " [ 3873   360    67 11730 27861 14870  3618   481 14870  1334   299 27862\n",
            "  3600  6522    73 27862  1334    17  3721  1227 14870  1334  1049   114\n",
            "     0     0     0     0     0     0     0     0     0     0     0     0\n",
            "     0     0     0     0     0     0     0     0     0     0     0     0\n",
            "     0     0     0     0     0     0     0     0     0     0     0     0\n",
            "     0     0     0     0     0     0     0     0     0     0     0     0\n",
            "     0     0     0     0     0     0     0     0     0     0     0     0\n",
            "     0     0     0     0     0     0     0     0     0     0     0     0\n",
            "     0     0     0     0]\n",
            "One hot label: \n",
            " [1. 0.]\n"
          ],
          "name": "stdout"
        }
      ]
    },
    {
      "cell_type": "code",
      "metadata": {
        "id": "QFnm5GTl4RZa",
        "colab": {
          "base_uri": "https://localhost:8080/"
        },
        "outputId": "fc07d722-0214-4f24-bef8-f521d0b2f900"
      },
      "source": [
        "embedding_matrix = np.random.random((len(word_index) + 1, EMBEDDING_DIM))\r\n",
        "for word, i in word_index.items():\r\n",
        "    embedding_vector = embeddings_index.get(word)\r\n",
        "    if embedding_vector is not None:\r\n",
        "        embedding_matrix[i] = embedding_vector\r\n",
        "print(\" Completed!\")"
      ],
      "execution_count": 18,
      "outputs": [
        {
          "output_type": "stream",
          "text": [
            " Completed!\n"
          ],
          "name": "stdout"
        }
      ]
    },
    {
      "cell_type": "markdown",
      "metadata": {
        "id": "S3kg7aVX4SJT"
      },
      "source": [
        "#GRU MODEL"
      ]
    },
    {
      "cell_type": "code",
      "metadata": {
        "id": "FZ65Naop7Ngt"
      },
      "source": [
        "from tensorflow.keras.layers import Bidirectional"
      ],
      "execution_count": 19,
      "outputs": []
    },
    {
      "cell_type": "code",
      "metadata": {
        "id": "zLZSes99WDN7"
      },
      "source": [
        "import tensorflow as tf\r\n",
        "callback = tf.keras.callbacks.EarlyStopping(monitor='val_loss', patience=1)\r\n",
        "import keras"
      ],
      "execution_count": 20,
      "outputs": []
    },
    {
      "cell_type": "code",
      "metadata": {
        "id": "kiaU-0U04U1D"
      },
      "source": [
        "sequence_input = Input(shape=(MAX_SEQUENCE_LENGTH,), dtype='int32')\r\n",
        "embedding_layer = Embedding(len(word_index) + 1,\r\n",
        "                           EMBEDDING_DIM,\r\n",
        "                           weights = [embedding_matrix],\r\n",
        "                           input_length = MAX_SEQUENCE_LENGTH,\r\n",
        "                           trainable=False,\r\n",
        "                           name = 'embeddings')\r\n",
        "embedded_sequences = embedding_layer(sequence_input)\r\n",
        "x = (Bidirectional(GRU(128, return_sequences=False, name='gru_layer')))(embedded_sequences)\r\n",
        "#x = GlobalMaxPool1D()(x)\r\n",
        "x = Dropout(0.1)(x)\r\n",
        "x = Dense(50, activation=\"relu\")(x)\r\n",
        "x = Dropout(0.1)(x)\r\n",
        "preds = Dense(2, activation=\"sigmoid\")(x)"
      ],
      "execution_count": 22,
      "outputs": []
    },
    {
      "cell_type": "code",
      "metadata": {
        "id": "nZ0EbrJT4Wai"
      },
      "source": [
        "model = Model(sequence_input, preds)\r\n",
        "model.compile(loss = 'binary_crossentropy',\r\n",
        "             optimizer='adam',\r\n",
        "             metrics = [tf.keras.metrics.Recall()])"
      ],
      "execution_count": 23,
      "outputs": []
    },
    {
      "cell_type": "code",
      "metadata": {
        "id": "3gjC_eqz4YKK",
        "colab": {
          "base_uri": "https://localhost:8080/"
        },
        "outputId": "c8007352-9732-4506-fee0-cbd3ad049fab"
      },
      "source": [
        "print('Training progress:')\r\n",
        "history = model.fit(x_train, y_train, epochs = 4, batch_size=128, validation_data=(x_val, y_val), verbose = 2,callbacks=[callback])"
      ],
      "execution_count": 24,
      "outputs": [
        {
          "output_type": "stream",
          "text": [
            "Training progress:\n",
            "Epoch 1/4\n",
            "290/290 - 14s - loss: 0.2836 - recall: 0.8829 - val_loss: 0.2175 - val_recall: 0.9113\n",
            "Epoch 2/4\n",
            "290/290 - 4s - loss: 0.2122 - recall: 0.9162 - val_loss: 0.2085 - val_recall: 0.9126\n",
            "Epoch 3/4\n",
            "290/290 - 4s - loss: 0.1969 - recall: 0.9216 - val_loss: 0.2012 - val_recall: 0.9174\n",
            "Epoch 4/4\n",
            "290/290 - 4s - loss: 0.1841 - recall: 0.9259 - val_loss: 0.1908 - val_recall: 0.9245\n"
          ],
          "name": "stdout"
        }
      ]
    },
    {
      "cell_type": "code",
      "metadata": {
        "id": "qpHLKwJq4bpi",
        "colab": {
          "base_uri": "https://localhost:8080/",
          "height": 295
        },
        "outputId": "c18329fc-6578-4828-c7ef-4109e59c6b2b"
      },
      "source": [
        "loss = history.history['loss']\r\n",
        "val_loss = history.history['val_loss']\r\n",
        "epochs = range(1, len(loss)+1)\r\n",
        "plt.plot(epochs, loss, label='Training loss')\r\n",
        "plt.plot(epochs, val_loss, label='Validation loss')\r\n",
        "plt.title('Training and validation loss')\r\n",
        "plt.xlabel('Epochs')\r\n",
        "plt.ylabel('Loss')\r\n",
        "plt.legend()\r\n",
        "plt.show();"
      ],
      "execution_count": 25,
      "outputs": [
        {
          "output_type": "display_data",
          "data": {
            "image/png": "[encoded data removed]",
            "text/plain": [
              "<Figure size 432x288 with 1 Axes>"
            ]
          },
          "metadata": {
            "tags": [],
            "needs_background": "light"
          }
        }
      ]
    },
    {
      "cell_type": "code",
      "metadata": {
        "id": "p7waHhZn4cTh",
        "colab": {
          "base_uri": "https://localhost:8080/",
          "height": 295
        },
        "outputId": "5dc54301-43f7-4e2e-ae5a-e541c6dc23ee"
      },
      "source": [
        "accuracy = history.history['recall']\r\n",
        "val_accuracy = history.history['val_recall']\r\n",
        "plt.plot(epochs, accuracy, label='Training recall')\r\n",
        "plt.plot(epochs, val_accuracy, label='Validation recall')\r\n",
        "plt.title('Training and validation recall')\r\n",
        "plt.ylabel('Recall')\r\n",
        "plt.xlabel('Epochs')\r\n",
        "plt.legend()\r\n",
        "plt.show();"
      ],
      "execution_count": 27,
      "outputs": [
        {
          "output_type": "display_data",
          "data": {
            "image/png": "[encoded data removed]",
            "text/plain": [
              "<Figure size 432x288 with 1 Axes>"
            ]
          },
          "metadata": {
            "tags": [],
            "needs_background": "light"
          }
        }
      ]
    },
    {
      "cell_type": "code",
      "metadata": {
        "id": "2yBxV1Sb8lsT"
      },
      "source": [
        ""
      ],
      "execution_count": null,
      "outputs": []
    },
    {
      "cell_type": "markdown",
      "metadata": {
        "id": "bI7CKyOU8xX1"
      },
      "source": [
        "# Test"
      ]
    },
    {
      "cell_type": "code",
      "metadata": {
        "id": "dFvJQlnj83E8"
      },
      "source": [
        "os.chdir('/content/drive/My Drive/DATASET AML/PROJECT/dataset_giusti/TEST')"
      ],
      "execution_count": 28,
      "outputs": []
    },
    {
      "cell_type": "code",
      "metadata": {
        "id": "TsqV9fho85N2"
      },
      "source": [
        "test = pd.read_csv(\"test_binary_senza_stopword.csv\")"
      ],
      "execution_count": 29,
      "outputs": []
    },
    {
      "cell_type": "code",
      "metadata": {
        "colab": {
          "base_uri": "https://localhost:8080/",
          "height": 419
        },
        "id": "josjq9v09NTG",
        "outputId": "648e1327-5261-4e81-b434-b10edd9df796"
      },
      "source": [
        "test"
      ],
      "execution_count": 30,
      "outputs": [
        {
          "output_type": "execute_result",
          "data": {
            "text/html": [
              "<div>\n",
              "<style scoped>\n",
              "    .dataframe tbody tr th:only-of-type {\n",
              "        vertical-align: middle;\n",
              "    }\n",
              "\n",
              "    .dataframe tbody tr th {\n",
              "        vertical-align: top;\n",
              "    }\n",
              "\n",
              "    .dataframe thead th {\n",
              "        text-align: right;\n",
              "    }\n",
              "</style>\n",
              "<table border=\"1\" class=\"dataframe\">\n",
              "  <thead>\n",
              "    <tr style=\"text-align: right;\">\n",
              "      <th></th>\n",
              "      <th>Unnamed: 0</th>\n",
              "      <th>Unnamed: 0.1</th>\n",
              "      <th>comment_text</th>\n",
              "      <th>bad</th>\n",
              "    </tr>\n",
              "  </thead>\n",
              "  <tbody>\n",
              "    <tr>\n",
              "      <th>0</th>\n",
              "      <td>0</td>\n",
              "      <td>5</td>\n",
              "      <td>thank you for understand i think very highly o...</td>\n",
              "      <td>0</td>\n",
              "    </tr>\n",
              "    <tr>\n",
              "      <th>1</th>\n",
              "      <td>1</td>\n",
              "      <td>7</td>\n",
              "      <td>dear god this site be horrible</td>\n",
              "      <td>0</td>\n",
              "    </tr>\n",
              "    <tr>\n",
              "      <th>2</th>\n",
              "      <td>2</td>\n",
              "      <td>11</td>\n",
              "      <td>somebody will invariably try to add religion r...</td>\n",
              "      <td>0</td>\n",
              "    </tr>\n",
              "    <tr>\n",
              "      <th>3</th>\n",
              "      <td>3</td>\n",
              "      <td>13</td>\n",
              "      <td>it say it right there that it be a type the ty...</td>\n",
              "      <td>0</td>\n",
              "    </tr>\n",
              "    <tr>\n",
              "      <th>4</th>\n",
              "      <td>4</td>\n",
              "      <td>14</td>\n",
              "      <td>before add a new product to the list make sure...</td>\n",
              "      <td>0</td>\n",
              "    </tr>\n",
              "    <tr>\n",
              "      <th>...</th>\n",
              "      <td>...</td>\n",
              "      <td>...</td>\n",
              "      <td>...</td>\n",
              "      <td>...</td>\n",
              "    </tr>\n",
              "    <tr>\n",
              "      <th>63973</th>\n",
              "      <td>63973</td>\n",
              "      <td>153150</td>\n",
              "      <td>jerome i see you never get around to this im n...</td>\n",
              "      <td>0</td>\n",
              "    </tr>\n",
              "    <tr>\n",
              "      <th>63974</th>\n",
              "      <td>63974</td>\n",
              "      <td>153151</td>\n",
              "      <td>lucky bastard httpwikimediafoundationorgwikipr...</td>\n",
              "      <td>0</td>\n",
              "    </tr>\n",
              "    <tr>\n",
              "      <th>63975</th>\n",
              "      <td>63975</td>\n",
              "      <td>153154</td>\n",
              "      <td>shame on you all you want to speak about gay a...</td>\n",
              "      <td>0</td>\n",
              "    </tr>\n",
              "    <tr>\n",
              "      <th>63976</th>\n",
              "      <td>63976</td>\n",
              "      <td>153155</td>\n",
              "      <td>mel gibson be a nazi bitch who make shitty mov...</td>\n",
              "      <td>1</td>\n",
              "    </tr>\n",
              "    <tr>\n",
              "      <th>63977</th>\n",
              "      <td>63977</td>\n",
              "      <td>153156</td>\n",
              "      <td>unicorn lair discovery supposedly a unicorn la...</td>\n",
              "      <td>0</td>\n",
              "    </tr>\n",
              "  </tbody>\n",
              "</table>\n",
              "<p>63978 rows × 4 columns</p>\n",
              "</div>"
            ],
            "text/plain": [
              "       Unnamed: 0  ...  bad\n",
              "0               0  ...    0\n",
              "1               1  ...    0\n",
              "2               2  ...    0\n",
              "3               3  ...    0\n",
              "4               4  ...    0\n",
              "...           ...  ...  ...\n",
              "63973       63973  ...    0\n",
              "63974       63974  ...    0\n",
              "63975       63975  ...    0\n",
              "63976       63976  ...    1\n",
              "63977       63977  ...    0\n",
              "\n",
              "[63978 rows x 4 columns]"
            ]
          },
          "metadata": {
            "tags": []
          },
          "execution_count": 30
        }
      ]
    },
    {
      "cell_type": "code",
      "metadata": {
        "id": "bh-watT29fUd"
      },
      "source": [
        "\r\n",
        "sequences = tokenizer.texts_to_sequences(test[\"comment_text\"].astype(str))\r\n"
      ],
      "execution_count": 31,
      "outputs": []
    },
    {
      "cell_type": "code",
      "metadata": {
        "id": "aOKWNogr9t3T"
      },
      "source": [
        "data = pad_sequences(sequences, padding = 'post', maxlen = MAX_SEQUENCE_LENGTH)"
      ],
      "execution_count": 32,
      "outputs": []
    },
    {
      "cell_type": "code",
      "metadata": {
        "id": "9Es7TQX697r4"
      },
      "source": [
        "labels = ['bad']\r\n",
        "y = to_categorical(test[labels].values)"
      ],
      "execution_count": 33,
      "outputs": []
    },
    {
      "cell_type": "code",
      "metadata": {
        "colab": {
          "base_uri": "https://localhost:8080/"
        },
        "id": "dop_JbZOFus-",
        "outputId": "a80286f0-af88-44e5-efe2-74ec3b8deeb4"
      },
      "source": [
        "eval= model.evaluate(data,y)"
      ],
      "execution_count": 34,
      "outputs": [
        {
          "output_type": "stream",
          "text": [
            "2000/2000 [==============================] - 12s 6ms/step - loss: 0.4396 - recall: 0.8437\n"
          ],
          "name": "stdout"
        }
      ]
    },
    {
      "cell_type": "code",
      "metadata": {
        "id": "bzOcuYNe-pDW"
      },
      "source": [
        "performance = model.predict(data)\r\n"
      ],
      "execution_count": 35,
      "outputs": []
    },
    {
      "cell_type": "code",
      "metadata": {
        "colab": {
          "base_uri": "https://localhost:8080/"
        },
        "id": "v1v8RkYEXuwM",
        "outputId": "bf3ec453-2800-4112-97cd-5ba9d72c1b9f"
      },
      "source": [
        "import sklearn\r\n",
        "y_pred =np.round(performance)\r\n",
        "print(\"RECALL: \", sklearn.metrics.recall_score(y, y_pred, average= 'weighted'))\r\n",
        "print(\"PRECISION: \",sklearn.metrics.precision_score(y, y_pred, average= 'weighted'))\r\n",
        "print(\"F1-SCORE: \",sklearn.metrics.f1_score(y, y_pred, average= 'weighted'))\r\n",
        "\r\n",
        "\r\n",
        "\r\n",
        "mat =sklearn.metrics.multilabel_confusion_matrix(y,y_pred)\r\n",
        "accuracy=[]\r\n",
        "for i in range(mat.shape[0]):\r\n",
        "\r\n",
        "  accuracy.append((mat[i][1][1]+mat[i][0][0])/(mat[i][1][1]+mat[i][0][0]+mat[i][0][1]+mat[i][1][0]))\r\n",
        "\r\n",
        "def Average(lst): \r\n",
        "    return sum(lst) / len(lst) \r\n",
        "\r\n",
        "accuracy_media =  Average(accuracy) \r\n",
        "print(\"ACCURACY: \",accuracy_media)\r\n"
      ],
      "execution_count": 36,
      "outputs": [
        {
          "output_type": "stream",
          "text": [
            "RECALL:  0.8436806402200756\n",
            "PRECISION:  0.9317018414763469\n",
            "F1-SCORE:  0.8687854015406137\n",
            "ACCURACY:  0.8394448091531463\n"
          ],
          "name": "stdout"
        }
      ]
    }
  ]
}