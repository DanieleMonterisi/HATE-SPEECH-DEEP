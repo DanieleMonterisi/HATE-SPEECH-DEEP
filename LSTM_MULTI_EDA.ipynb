{
  "nbformat": 4,
  "nbformat_minor": 0,
  "metadata": {
    "colab": {
      "name": "LSTM_MULTI_EDA .ipynb",
      "provenance": [],
      "collapsed_sections": []
    },
    "kernelspec": {
      "name": "python3",
      "display_name": "Python 3"
    },
    "accelerator": "GPU"
  },
  "cells": [
    {
      "cell_type": "code",
      "metadata": {
        "colab": {
          "base_uri": "https://localhost:8080/"
        },
        "id": "Dig3EviD9GRo",
        "outputId": "345c0513-fce3-4ecf-8614-a98c27817171"
      },
      "source": [
        "import torch\r\n",
        "\r\n",
        "if torch.cuda.is_available():       \r\n",
        "    device = torch.device(\"cuda\")\r\n",
        "    print(f'There are {torch.cuda.device_count()} GPU(s) available.')\r\n",
        "    print('Device name:', torch.cuda.get_device_name(0))\r\n",
        "\r\n",
        "else:\r\n",
        "    print('No GPU available, using the CPU instead.')\r\n",
        "    device = torch.device(\"cpu\")"
      ],
      "execution_count": 1,
      "outputs": [
        {
          "output_type": "stream",
          "text": [
            "There are 1 GPU(s) available.\n",
            "Device name: Tesla K80\n"
          ],
          "name": "stdout"
        }
      ]
    },
    {
      "cell_type": "code",
      "metadata": {
        "id": "o5HI49hS1spT"
      },
      "source": [
        "import numpy as np\r\n",
        "import pandas as pd\r\n",
        "from tensorflow.keras.preprocessing.sequence import pad_sequences\r\n",
        "from tensorflow.keras.preprocessing.text import Tokenizer\r\n",
        "import numpy as np\r\n",
        "from scipy import spatial\r\n",
        "import matplotlib.pyplot as plt\r\n",
        "from sklearn.manifold import TSNE\r\n",
        "import re\r\n",
        "from tqdm import tqdm_notebook\r\n",
        "\r\n",
        "from nltk.corpus import stopwords\r\n",
        "\r\n",
        "from tensorflow.keras import regularizers, initializers, optimizers, callbacks\r\n",
        "from tensorflow.keras.preprocessing.sequence import pad_sequences\r\n",
        "from tensorflow.keras.preprocessing.text import Tokenizer\r\n",
        "from keras.utils.np_utils import to_categorical\r\n",
        "from tensorflow.keras.layers import *\r\n",
        "from tensorflow.keras.models import Model"
      ],
      "execution_count": 2,
      "outputs": []
    },
    {
      "cell_type": "code",
      "metadata": {
        "id": "VNcYNsHt3WZo"
      },
      "source": [
        "MAX_NB_WORDS = 100000    # max no. of words for tokenizer\r\n",
        "MAX_SEQUENCE_LENGTH = 100 # max length of each entry (sentence), including padding\r\n",
        "VALIDATION_SPLIT = 0.2   # data for validation (not used in training)\r\n",
        "EMBEDDING_DIM = 100\r\n",
        "GLOVE_DIR = r\"glove.twitter.27B.100d.txt\""
      ],
      "execution_count": 3,
      "outputs": []
    },
    {
      "cell_type": "code",
      "metadata": {
        "colab": {
          "base_uri": "https://localhost:8080/"
        },
        "id": "j6oczzwM0SWj",
        "outputId": "fec1594f-bee7-4410-fe7c-83442e386600"
      },
      "source": [
        "import os \r\n",
        "from google.colab import drive\r\n",
        "drive.mount('/content/drive')\r\n",
        "os.chdir('/content/drive/My Drive/DATASET AML/')"
      ],
      "execution_count": 4,
      "outputs": [
        {
          "output_type": "stream",
          "text": [
            "Mounted at /content/drive\n"
          ],
          "name": "stdout"
        }
      ]
    },
    {
      "cell_type": "markdown",
      "metadata": {
        "id": "I-MLgeP53S8w"
      },
      "source": [
        "# Import Glove"
      ]
    },
    {
      "cell_type": "code",
      "metadata": {
        "id": "Zrcj7fB63RhE",
        "colab": {
          "base_uri": "https://localhost:8080/"
        },
        "outputId": "33287793-1673-4366-aad7-c71c14cc2ff7"
      },
      "source": [
        "embeddings_index = {}\r\n",
        "f = open(GLOVE_DIR, encoding=\"utf8\")\r\n",
        "print('Loading GloVe from:', GLOVE_DIR,'...', end='')\r\n",
        "for line in f:\r\n",
        "    values = line.split()\r\n",
        "    word = values[0]\r\n",
        "    embeddings_index[word] = np.asarray(values[1:], dtype='float32')\r\n",
        "f.close()\r\n",
        "print(\"Done.\\n Proceeding with Embedding Matrix...\", end=\"\")\r\n"
      ],
      "execution_count": 5,
      "outputs": [
        {
          "output_type": "stream",
          "text": [
            "Loading GloVe from: glove.twitter.27B.100d.txt ...Done.\n",
            " Proceeding with Embedding Matrix..."
          ],
          "name": "stdout"
        }
      ]
    },
    {
      "cell_type": "code",
      "metadata": {
        "colab": {
          "base_uri": "https://localhost:8080/"
        },
        "id": "OI2EAia3z8Lm",
        "outputId": "3d662c08-a2bd-4fa1-cd60-08f2f25fd5e0"
      },
      "source": [
        ""
      ],
      "execution_count": null,
      "outputs": [
        {
          "output_type": "stream",
          "text": [
            "Mounted at /content/drive\n"
          ],
          "name": "stdout"
        }
      ]
    },
    {
      "cell_type": "markdown",
      "metadata": {
        "id": "Xr8fe3PV3d3q"
      },
      "source": [
        "#Import Dataset"
      ]
    },
    {
      "cell_type": "markdown",
      "metadata": {
        "id": "O455U1_A34Xc"
      },
      "source": [
        "EDA BINARY"
      ]
    },
    {
      "cell_type": "code",
      "metadata": {
        "id": "ahXvINcW3k2m"
      },
      "source": [
        "os.chdir('/content/drive/My Drive/DATASET AML/PROJECT/dataset_giusti')"
      ],
      "execution_count": 6,
      "outputs": []
    },
    {
      "cell_type": "code",
      "metadata": {
        "id": "gtMElYbL3dFZ",
        "colab": {
          "base_uri": "https://localhost:8080/",
          "height": 204
        },
        "outputId": "bcc096a5-ab29-4d11-8afe-4722b6c4b366"
      },
      "source": [
        "train = pd.read_csv(\"MULTILABEL_augmented_EDA_senza_stopword_FINAL.csv\")\r\n",
        "train[\"comment_text\"] = train[\"comment_text\"].astype(str)\r\n",
        "train.head()"
      ],
      "execution_count": 8,
      "outputs": [
        {
          "output_type": "execute_result",
          "data": {
            "text/html": [
              "<div>\n",
              "<style scoped>\n",
              "    .dataframe tbody tr th:only-of-type {\n",
              "        vertical-align: middle;\n",
              "    }\n",
              "\n",
              "    .dataframe tbody tr th {\n",
              "        vertical-align: top;\n",
              "    }\n",
              "\n",
              "    .dataframe thead th {\n",
              "        text-align: right;\n",
              "    }\n",
              "</style>\n",
              "<table border=\"1\" class=\"dataframe\">\n",
              "  <thead>\n",
              "    <tr style=\"text-align: right;\">\n",
              "      <th></th>\n",
              "      <th>comment_text</th>\n",
              "      <th>toxic</th>\n",
              "      <th>severe_toxic</th>\n",
              "      <th>obscene</th>\n",
              "      <th>threat</th>\n",
              "      <th>insult</th>\n",
              "      <th>identity_hate</th>\n",
              "    </tr>\n",
              "  </thead>\n",
              "  <tbody>\n",
              "    <tr>\n",
              "      <th>0</th>\n",
              "      <td>well u say really hurt u block bitch tit ur pu...</td>\n",
              "      <td>1</td>\n",
              "      <td>1</td>\n",
              "      <td>1</td>\n",
              "      <td>0</td>\n",
              "      <td>1</td>\n",
              "      <td>0</td>\n",
              "    </tr>\n",
              "    <tr>\n",
              "      <th>1</th>\n",
              "      <td>dont know think cocksucker whole load shite ph...</td>\n",
              "      <td>1</td>\n",
              "      <td>1</td>\n",
              "      <td>1</td>\n",
              "      <td>0</td>\n",
              "      <td>1</td>\n",
              "      <td>0</td>\n",
              "    </tr>\n",
              "    <tr>\n",
              "      <th>2</th>\n",
              "      <td>robert palmer respect intend binknsternet kiss...</td>\n",
              "      <td>1</td>\n",
              "      <td>0</td>\n",
              "      <td>1</td>\n",
              "      <td>0</td>\n",
              "      <td>1</td>\n",
              "      <td>0</td>\n",
              "    </tr>\n",
              "    <tr>\n",
              "      <th>3</th>\n",
              "      <td>keep head man not let uppity bitch get man one...</td>\n",
              "      <td>1</td>\n",
              "      <td>0</td>\n",
              "      <td>1</td>\n",
              "      <td>0</td>\n",
              "      <td>1</td>\n",
              "      <td>0</td>\n",
              "    </tr>\n",
              "    <tr>\n",
              "      <th>4</th>\n",
              "      <td>naked mum sex indeed faggot suck tour dad cock...</td>\n",
              "      <td>1</td>\n",
              "      <td>1</td>\n",
              "      <td>1</td>\n",
              "      <td>0</td>\n",
              "      <td>1</td>\n",
              "      <td>1</td>\n",
              "    </tr>\n",
              "  </tbody>\n",
              "</table>\n",
              "</div>"
            ],
            "text/plain": [
              "                                        comment_text  ...  identity_hate\n",
              "0  well u say really hurt u block bitch tit ur pu...  ...              0\n",
              "1  dont know think cocksucker whole load shite ph...  ...              0\n",
              "2  robert palmer respect intend binknsternet kiss...  ...              0\n",
              "3  keep head man not let uppity bitch get man one...  ...              0\n",
              "4  naked mum sex indeed faggot suck tour dad cock...  ...              1\n",
              "\n",
              "[5 rows x 7 columns]"
            ]
          },
          "metadata": {
            "tags": []
          },
          "execution_count": 8
        }
      ]
    },
    {
      "cell_type": "markdown",
      "metadata": {
        "id": "z89MdPP-3o6w"
      },
      "source": [
        "#Tokenization and Embedding"
      ]
    },
    {
      "cell_type": "code",
      "metadata": {
        "id": "_q0DDGEk3rdD",
        "colab": {
          "base_uri": "https://localhost:8080/"
        },
        "outputId": "6933b54f-dbb2-4383-a2d1-509b941b519e"
      },
      "source": [
        "tokenizer = Tokenizer(num_words=MAX_NB_WORDS)\r\n",
        "tokenizer.fit_on_texts(train['comment_text'].values)\r\n",
        "sequences = tokenizer.texts_to_sequences(train[\"comment_text\"])\r\n",
        "word_index = tokenizer.word_index\r\n",
        "print('Vocabulary size:', len(word_index))"
      ],
      "execution_count": 9,
      "outputs": [
        {
          "output_type": "stream",
          "text": [
            "Vocabulary size: 32510\n"
          ],
          "name": "stdout"
        }
      ]
    },
    {
      "cell_type": "code",
      "metadata": {
        "id": "MK5SJTZN3tF5",
        "colab": {
          "base_uri": "https://localhost:8080/"
        },
        "outputId": "1b0b2d00-68d9-43ef-aab6-4d29f683e2f6"
      },
      "source": [
        "embeddings_dict = {}\r\n",
        "\r\n",
        "for word, i in word_index.items():\r\n",
        "    embedding_vector = embeddings_index.get(word)\r\n",
        "    if embedding_vector is not None:\r\n",
        "        embeddings_dict[word] = embedding_vector\r\n",
        "print(\" Completed!\")"
      ],
      "execution_count": 10,
      "outputs": [
        {
          "output_type": "stream",
          "text": [
            " Completed!\n"
          ],
          "name": "stdout"
        }
      ]
    },
    {
      "cell_type": "code",
      "metadata": {
        "id": "hEzMtyee4Cax"
      },
      "source": [
        "tsne = TSNE(n_components=2, random_state=0)\r\n",
        "words =  list(embeddings_dict.keys())\r\n",
        "vectors = [embeddings_dict[word] for word in words]"
      ],
      "execution_count": 11,
      "outputs": []
    },
    {
      "cell_type": "code",
      "metadata": {
        "id": "yA5fK-is4DGy"
      },
      "source": [
        "data = pad_sequences(sequences, padding = 'post', maxlen = MAX_SEQUENCE_LENGTH)"
      ],
      "execution_count": 12,
      "outputs": []
    },
    {
      "cell_type": "code",
      "metadata": {
        "id": "v88-l-Am4Js5"
      },
      "source": [
        "labels = ['toxic', 'severe_toxic', 'obscene', 'threat', 'insult', 'identity_hate']\r\n",
        "y = train[labels].values"
      ],
      "execution_count": 14,
      "outputs": []
    },
    {
      "cell_type": "code",
      "metadata": {
        "id": "mMtbZHbf4Lfg",
        "colab": {
          "base_uri": "https://localhost:8080/"
        },
        "outputId": "4e922d7f-84ba-46c0-9fc1-db425cd1985d"
      },
      "source": [
        "print('Shape of data tensor:', data.shape)\r\n",
        "print('Shape of label tensor:', y.shape)"
      ],
      "execution_count": 15,
      "outputs": [
        {
          "output_type": "stream",
          "text": [
            "Shape of data tensor: (23181, 100)\n",
            "Shape of label tensor: (23181, 6)\n"
          ],
          "name": "stdout"
        }
      ]
    },
    {
      "cell_type": "code",
      "metadata": {
        "id": "SkY8pV9c4NIK"
      },
      "source": [
        "indices = np.arange(data.shape[0])\r\n",
        "np.random.shuffle(indices)\r\n",
        "data = data[indices]\r\n",
        "labels = y[indices]"
      ],
      "execution_count": 16,
      "outputs": []
    },
    {
      "cell_type": "code",
      "metadata": {
        "id": "TDn5y6ne4N2D",
        "colab": {
          "base_uri": "https://localhost:8080/"
        },
        "outputId": "ba4426df-3410-4c79-8500-b108957806b4"
      },
      "source": [
        "num_validation_samples = int(VALIDATION_SPLIT*data.shape[0])\r\n",
        "x_train = data[: -num_validation_samples]\r\n",
        "y_train = labels[: -num_validation_samples]\r\n",
        "x_val = data[-num_validation_samples: ]\r\n",
        "y_val = labels[-num_validation_samples: ]\r\n",
        "print('Number of entries in each category:')\r\n",
        "print('training: ', y_train.sum(axis=0))\r\n",
        "print('validation: ', y_val.sum(axis=0))"
      ],
      "execution_count": 17,
      "outputs": [
        {
          "output_type": "stream",
          "text": [
            "Number of entries in each category:\n",
            "training:  [17614  4510 11299  1464 10807  4051]\n",
            "validation:  [4372 1125 2850  390 2746  986]\n"
          ],
          "name": "stdout"
        }
      ]
    },
    {
      "cell_type": "code",
      "metadata": {
        "id": "s9bN-5TR4Plp",
        "colab": {
          "base_uri": "https://localhost:8080/"
        },
        "outputId": "2e8b9eb6-3093-4471-c6fa-750e0ba727e9"
      },
      "source": [
        "print('Tokenized sentences: \\n', data[20])\r\n",
        "print('One hot label: \\n', labels[20])"
      ],
      "execution_count": 18,
      "outputs": [
        {
          "output_type": "stream",
          "text": [
            "Tokenized sentences: \n",
            " [1108  998  166  243 3278   12  131  226   81   54  701 1554   28    1\n",
            "    0    0    0    0    0    0    0    0    0    0    0    0    0    0\n",
            "    0    0    0    0    0    0    0    0    0    0    0    0    0    0\n",
            "    0    0    0    0    0    0    0    0    0    0    0    0    0    0\n",
            "    0    0    0    0    0    0    0    0    0    0    0    0    0    0\n",
            "    0    0    0    0    0    0    0    0    0    0    0    0    0    0\n",
            "    0    0    0    0    0    0    0    0    0    0    0    0    0    0\n",
            "    0    0]\n",
            "One hot label: \n",
            " [1 0 1 0 0 0]\n"
          ],
          "name": "stdout"
        }
      ]
    },
    {
      "cell_type": "code",
      "metadata": {
        "id": "QFnm5GTl4RZa",
        "colab": {
          "base_uri": "https://localhost:8080/"
        },
        "outputId": "d5744177-897c-44be-d6ad-803caea12416"
      },
      "source": [
        "embedding_matrix = np.random.random((len(word_index) + 1, EMBEDDING_DIM))\r\n",
        "for word, i in word_index.items():\r\n",
        "    embedding_vector = embeddings_index.get(word)\r\n",
        "    if embedding_vector is not None:\r\n",
        "        embedding_matrix[i] = embedding_vector\r\n",
        "print(\" Completed!\")"
      ],
      "execution_count": 19,
      "outputs": [
        {
          "output_type": "stream",
          "text": [
            " Completed!\n"
          ],
          "name": "stdout"
        }
      ]
    },
    {
      "cell_type": "markdown",
      "metadata": {
        "id": "S3kg7aVX4SJT"
      },
      "source": [
        "#LSTM MODEL"
      ]
    },
    {
      "cell_type": "code",
      "metadata": {
        "id": "FZ65Naop7Ngt"
      },
      "source": [
        "from tensorflow.keras.layers import Bidirectional"
      ],
      "execution_count": 21,
      "outputs": []
    },
    {
      "cell_type": "code",
      "metadata": {
        "id": "kiaU-0U04U1D"
      },
      "source": [
        "sequence_input = Input(shape=(MAX_SEQUENCE_LENGTH,), dtype='int32')\r\n",
        "embedding_layer = Embedding(len(word_index) + 1,\r\n",
        "                           EMBEDDING_DIM,\r\n",
        "                           weights = [embedding_matrix],\r\n",
        "                           input_length = MAX_SEQUENCE_LENGTH,\r\n",
        "                           trainable=False,\r\n",
        "                           name = 'embeddings')\r\n",
        "embedded_sequences = embedding_layer(sequence_input)\r\n",
        "x = (Bidirectional(LSTM(60, return_sequences=True,name='lstm_layer')))(embedded_sequences)\r\n",
        "x = GlobalMaxPool1D()(x)\r\n",
        "x = Dropout(0.1)(x)\r\n",
        "x = Dense(50, activation=\"relu\")(x)\r\n",
        "x = Dropout(0.1)(x)\r\n",
        "preds = Dense(6, activation=\"sigmoid\")(x)"
      ],
      "execution_count": 22,
      "outputs": []
    },
    {
      "cell_type": "code",
      "metadata": {
        "id": "nZ0EbrJT4Wai"
      },
      "source": [
        "model = Model(sequence_input, preds)\r\n",
        "model.compile(loss = 'binary_crossentropy',\r\n",
        "             optimizer='adam',\r\n",
        "             metrics = ['accuracy'])"
      ],
      "execution_count": 23,
      "outputs": []
    },
    {
      "cell_type": "code",
      "metadata": {
        "id": "3gjC_eqz4YKK",
        "colab": {
          "base_uri": "https://localhost:8080/"
        },
        "outputId": "7b653c56-f510-48e9-e3b1-f1143db0f8bc"
      },
      "source": [
        "print('Training progress:')\r\n",
        "history = model.fit(x_train, y_train, epochs = 4, batch_size=128, validation_data=(x_val, y_val), verbose = 2)"
      ],
      "execution_count": 24,
      "outputs": [
        {
          "output_type": "stream",
          "text": [
            "Training progress:\n",
            "Epoch 1/4\n",
            "145/145 - 15s - loss: 0.4328 - accuracy: 0.9270 - val_loss: 0.3698 - val_accuracy: 0.9426\n",
            "Epoch 2/4\n",
            "145/145 - 5s - loss: 0.3528 - accuracy: 0.9386 - val_loss: 0.3330 - val_accuracy: 0.9420\n",
            "Epoch 3/4\n",
            "145/145 - 5s - loss: 0.3234 - accuracy: 0.9318 - val_loss: 0.3171 - val_accuracy: 0.9394\n",
            "Epoch 4/4\n",
            "145/145 - 5s - loss: 0.3081 - accuracy: 0.9345 - val_loss: 0.3067 - val_accuracy: 0.9374\n"
          ],
          "name": "stdout"
        }
      ]
    },
    {
      "cell_type": "code",
      "metadata": {
        "id": "qpHLKwJq4bpi",
        "colab": {
          "base_uri": "https://localhost:8080/",
          "height": 295
        },
        "outputId": "2cf63e9b-a589-4034-e21b-7fb32b9c4712"
      },
      "source": [
        "loss = history.history['loss']\r\n",
        "val_loss = history.history['val_loss']\r\n",
        "epochs = range(1, len(loss)+1)\r\n",
        "plt.plot(epochs, loss, label='Training loss')\r\n",
        "plt.plot(epochs, val_loss, label='Validation loss')\r\n",
        "plt.title('Training and validation loss')\r\n",
        "plt.xlabel('Epochs')\r\n",
        "plt.ylabel('Loss')\r\n",
        "plt.legend()\r\n",
        "plt.show();"
      ],
      "execution_count": 25,
      "outputs": [
        {
          "output_type": "display_data",
          "data": {
            "image/png": "[encoded data removed]",
            "text/plain": [
              "<Figure size 432x288 with 1 Axes>"
            ]
          },
          "metadata": {
            "tags": [],
            "needs_background": "light"
          }
        }
      ]
    },
    {
      "cell_type": "code",
      "metadata": {
        "id": "p7waHhZn4cTh",
        "colab": {
          "base_uri": "https://localhost:8080/",
          "height": 295
        },
        "outputId": "ad83fde5-a0df-477b-9107-8a4ca6cdbde0"
      },
      "source": [
        "accuracy = history.history['accuracy']\r\n",
        "val_accuracy = history.history['val_accuracy']\r\n",
        "plt.plot(epochs, accuracy, label='Training accuracy')\r\n",
        "plt.plot(epochs, val_accuracy, label='Validation accuracy')\r\n",
        "plt.title('Training and validation accuracy')\r\n",
        "plt.ylabel('Accuracy')\r\n",
        "plt.xlabel('Epochs')\r\n",
        "plt.legend()\r\n",
        "plt.show();"
      ],
      "execution_count": 26,
      "outputs": [
        {
          "output_type": "display_data",
          "data": {
            "image/png": "[encoded data removed]",
            "text/plain": [
              "<Figure size 432x288 with 1 Axes>"
            ]
          },
          "metadata": {
            "tags": [],
            "needs_background": "light"
          }
        }
      ]
    },
    {
      "cell_type": "code",
      "metadata": {
        "id": "2yBxV1Sb8lsT"
      },
      "source": [
        ""
      ],
      "execution_count": null,
      "outputs": []
    },
    {
      "cell_type": "markdown",
      "metadata": {
        "id": "bI7CKyOU8xX1"
      },
      "source": [
        "# Test"
      ]
    },
    {
      "cell_type": "code",
      "metadata": {
        "id": "dFvJQlnj83E8"
      },
      "source": [
        "os.chdir('/content/drive/My Drive/DATASET AML/PROJECT/dataset_giusti/TEST')"
      ],
      "execution_count": 28,
      "outputs": []
    },
    {
      "cell_type": "code",
      "metadata": {
        "id": "TsqV9fho85N2"
      },
      "source": [
        "test = pd.read_csv(\"test_multilabel_senza_stopword.csv\")"
      ],
      "execution_count": 29,
      "outputs": []
    },
    {
      "cell_type": "code",
      "metadata": {
        "colab": {
          "base_uri": "https://localhost:8080/",
          "height": 419
        },
        "id": "josjq9v09NTG",
        "outputId": "8c8cea47-c2b7-41f9-aa24-a35688bc0be7"
      },
      "source": [
        "test"
      ],
      "execution_count": 30,
      "outputs": [
        {
          "output_type": "execute_result",
          "data": {
            "text/html": [
              "<div>\n",
              "<style scoped>\n",
              "    .dataframe tbody tr th:only-of-type {\n",
              "        vertical-align: middle;\n",
              "    }\n",
              "\n",
              "    .dataframe tbody tr th {\n",
              "        vertical-align: top;\n",
              "    }\n",
              "\n",
              "    .dataframe thead th {\n",
              "        text-align: right;\n",
              "    }\n",
              "</style>\n",
              "<table border=\"1\" class=\"dataframe\">\n",
              "  <thead>\n",
              "    <tr style=\"text-align: right;\">\n",
              "      <th></th>\n",
              "      <th>Unnamed: 0</th>\n",
              "      <th>Unnamed: 0.1</th>\n",
              "      <th>comment_text</th>\n",
              "      <th>toxic</th>\n",
              "      <th>severe_toxic</th>\n",
              "      <th>obscene</th>\n",
              "      <th>threat</th>\n",
              "      <th>insult</th>\n",
              "      <th>identity_hate</th>\n",
              "    </tr>\n",
              "  </thead>\n",
              "  <tbody>\n",
              "    <tr>\n",
              "      <th>0</th>\n",
              "      <td>8</td>\n",
              "      <td>21</td>\n",
              "      <td>arab commit genocide iraq protest europe may e...</td>\n",
              "      <td>1</td>\n",
              "      <td>0</td>\n",
              "      <td>0</td>\n",
              "      <td>0</td>\n",
              "      <td>0</td>\n",
              "      <td>0</td>\n",
              "    </tr>\n",
              "    <tr>\n",
              "      <th>1</th>\n",
              "      <td>24</td>\n",
              "      <td>48</td>\n",
              "      <td>dj robinson gay hell suck dick much</td>\n",
              "      <td>1</td>\n",
              "      <td>0</td>\n",
              "      <td>1</td>\n",
              "      <td>0</td>\n",
              "      <td>1</td>\n",
              "      <td>1</td>\n",
              "    </tr>\n",
              "    <tr>\n",
              "      <th>2</th>\n",
              "      <td>29</td>\n",
              "      <td>59</td>\n",
              "      <td>fuck antisemitic cunt</td>\n",
              "      <td>1</td>\n",
              "      <td>0</td>\n",
              "      <td>1</td>\n",
              "      <td>0</td>\n",
              "      <td>1</td>\n",
              "      <td>0</td>\n",
              "    </tr>\n",
              "    <tr>\n",
              "      <th>3</th>\n",
              "      <td>38</td>\n",
              "      <td>76</td>\n",
              "      <td>dare vandalize page hm beagle not vandalize demon</td>\n",
              "      <td>1</td>\n",
              "      <td>0</td>\n",
              "      <td>0</td>\n",
              "      <td>0</td>\n",
              "      <td>0</td>\n",
              "      <td>0</td>\n",
              "    </tr>\n",
              "    <tr>\n",
              "      <th>4</th>\n",
              "      <td>40</td>\n",
              "      <td>81</td>\n",
              "      <td>arrogant self serve immature idiot get right</td>\n",
              "      <td>1</td>\n",
              "      <td>0</td>\n",
              "      <td>1</td>\n",
              "      <td>0</td>\n",
              "      <td>1</td>\n",
              "      <td>0</td>\n",
              "    </tr>\n",
              "    <tr>\n",
              "      <th>...</th>\n",
              "      <td>...</td>\n",
              "      <td>...</td>\n",
              "      <td>...</td>\n",
              "      <td>...</td>\n",
              "      <td>...</td>\n",
              "      <td>...</td>\n",
              "      <td>...</td>\n",
              "      <td>...</td>\n",
              "      <td>...</td>\n",
              "    </tr>\n",
              "    <tr>\n",
              "      <th>6238</th>\n",
              "      <td>63877</td>\n",
              "      <td>152908</td>\n",
              "      <td>nigel crazy idiot</td>\n",
              "      <td>1</td>\n",
              "      <td>0</td>\n",
              "      <td>0</td>\n",
              "      <td>0</td>\n",
              "      <td>1</td>\n",
              "      <td>0</td>\n",
              "    </tr>\n",
              "    <tr>\n",
              "      <th>6239</th>\n",
              "      <td>63935</td>\n",
              "      <td>153049</td>\n",
              "      <td>well not feel stupid</td>\n",
              "      <td>0</td>\n",
              "      <td>0</td>\n",
              "      <td>0</td>\n",
              "      <td>0</td>\n",
              "      <td>1</td>\n",
              "      <td>0</td>\n",
              "    </tr>\n",
              "    <tr>\n",
              "      <th>6240</th>\n",
              "      <td>63945</td>\n",
              "      <td>153078</td>\n",
              "      <td>fourth baldrick possibly cleverer make anyone ...</td>\n",
              "      <td>1</td>\n",
              "      <td>0</td>\n",
              "      <td>0</td>\n",
              "      <td>0</td>\n",
              "      <td>0</td>\n",
              "      <td>0</td>\n",
              "    </tr>\n",
              "    <tr>\n",
              "      <th>6241</th>\n",
              "      <td>63962</td>\n",
              "      <td>153119</td>\n",
              "      <td>iran thats right iran drone spread homosexual ...</td>\n",
              "      <td>1</td>\n",
              "      <td>0</td>\n",
              "      <td>1</td>\n",
              "      <td>0</td>\n",
              "      <td>0</td>\n",
              "      <td>0</td>\n",
              "    </tr>\n",
              "    <tr>\n",
              "      <th>6242</th>\n",
              "      <td>63976</td>\n",
              "      <td>153155</td>\n",
              "      <td>mel gibson nazi bitch make shitty movie much b...</td>\n",
              "      <td>1</td>\n",
              "      <td>0</td>\n",
              "      <td>1</td>\n",
              "      <td>0</td>\n",
              "      <td>1</td>\n",
              "      <td>0</td>\n",
              "    </tr>\n",
              "  </tbody>\n",
              "</table>\n",
              "<p>6243 rows × 9 columns</p>\n",
              "</div>"
            ],
            "text/plain": [
              "      Unnamed: 0  Unnamed: 0.1  ... insult  identity_hate\n",
              "0              8            21  ...      0              0\n",
              "1             24            48  ...      1              1\n",
              "2             29            59  ...      1              0\n",
              "3             38            76  ...      0              0\n",
              "4             40            81  ...      1              0\n",
              "...          ...           ...  ...    ...            ...\n",
              "6238       63877        152908  ...      1              0\n",
              "6239       63935        153049  ...      1              0\n",
              "6240       63945        153078  ...      0              0\n",
              "6241       63962        153119  ...      0              0\n",
              "6242       63976        153155  ...      1              0\n",
              "\n",
              "[6243 rows x 9 columns]"
            ]
          },
          "metadata": {
            "tags": []
          },
          "execution_count": 30
        }
      ]
    },
    {
      "cell_type": "code",
      "metadata": {
        "id": "bh-watT29fUd"
      },
      "source": [
        "\r\n",
        "sequences = tokenizer.texts_to_sequences(test[\"comment_text\"].astype(str))\r\n"
      ],
      "execution_count": 31,
      "outputs": []
    },
    {
      "cell_type": "code",
      "metadata": {
        "id": "aOKWNogr9t3T"
      },
      "source": [
        "data = pad_sequences(sequences, padding = 'post', maxlen = MAX_SEQUENCE_LENGTH)"
      ],
      "execution_count": 32,
      "outputs": []
    },
    {
      "cell_type": "code",
      "metadata": {
        "id": "9Es7TQX697r4"
      },
      "source": [
        "labels = ['toxic', 'severe_toxic', 'obscene', 'threat', 'insult', 'identity_hate']\r\n",
        "y = test[labels].values"
      ],
      "execution_count": 41,
      "outputs": []
    },
    {
      "cell_type": "code",
      "metadata": {
        "colab": {
          "base_uri": "https://localhost:8080/"
        },
        "id": "dop_JbZOFus-",
        "outputId": "27716d8c-cbf4-44fa-ee8f-a115e649d4e9"
      },
      "source": [
        "eval= model.evaluate(data,y)"
      ],
      "execution_count": 42,
      "outputs": [
        {
          "output_type": "stream",
          "text": [
            "196/196 [==============================] - 3s 16ms/step - loss: 0.2784 - accuracy: 0.9683\n"
          ],
          "name": "stdout"
        }
      ]
    },
    {
      "cell_type": "code",
      "metadata": {
        "id": "bzOcuYNe-pDW"
      },
      "source": [
        "performance = model.predict(data)\r\n"
      ],
      "execution_count": 43,
      "outputs": []
    },
    {
      "cell_type": "code",
      "metadata": {
        "id": "f_Ma6qTLGmIi"
      },
      "source": [
        "import sklearn"
      ],
      "execution_count": 44,
      "outputs": []
    },
    {
      "cell_type": "code",
      "metadata": {
        "id": "mWLNqvp6Fmh2"
      },
      "source": [
        "y_pred =np.round(performance)"
      ],
      "execution_count": 45,
      "outputs": []
    },
    {
      "cell_type": "code",
      "metadata": {
        "colab": {
          "base_uri": "https://localhost:8080/"
        },
        "id": "0iOsafRYGocx",
        "outputId": "ce496b67-ca3e-40a8-b15e-cfee712089e2"
      },
      "source": [
        "sklearn.metrics.recall_score(y, y_pred, average= 'weighted')"
      ],
      "execution_count": 47,
      "outputs": [
        {
          "output_type": "execute_result",
          "data": {
            "text/plain": [
              "0.8434956545730445"
            ]
          },
          "metadata": {
            "tags": []
          },
          "execution_count": 47
        }
      ]
    },
    {
      "cell_type": "code",
      "metadata": {
        "colab": {
          "base_uri": "https://localhost:8080/"
        },
        "id": "XsdOB-f_-2mt",
        "outputId": "11993d7b-3045-44e4-9b11-925d9230870d"
      },
      "source": [
        "print(\" TEST LOSS: \", performance[0])"
      ],
      "execution_count": null,
      "outputs": [
        {
          "output_type": "stream",
          "text": [
            " TEST LOSS:  [0.9870694  0.01264051]\n"
          ],
          "name": "stdout"
        }
      ]
    }
  ]
}